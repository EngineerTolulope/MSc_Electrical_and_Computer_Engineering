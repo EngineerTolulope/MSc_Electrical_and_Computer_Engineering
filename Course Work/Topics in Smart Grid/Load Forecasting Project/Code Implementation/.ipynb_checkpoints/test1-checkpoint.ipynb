{
 "cells": [
  {
   "cell_type": "code",
   "execution_count": 1,
   "metadata": {},
   "outputs": [],
   "source": [
    "import pandas as pd \n",
    "from datetime import datetime    # To access datetime \n",
    "import numpy as np \n",
    "import matplotlib.pyplot as plt \n",
    "# from pandas import Series        # To work on series \n",
    "# import sklearn\n",
    "# import statsmodels\n",
    "# %matplotlib inline \n",
    "# import warnings                   # To ignore the warnings warnings.filterwarnings(\"ignore\")\n",
    "\n",
    "plt.rcParams[\"figure.figsize\"] = (20,10)"
   ]
  },
  {
   "cell_type": "code",
   "execution_count": 2,
   "metadata": {},
   "outputs": [],
   "source": [
    "data = pd.read_csv('2014-2019.csv')\n"
   ]
  },
  {
   "cell_type": "code",
   "execution_count": 3,
   "metadata": {},
   "outputs": [
    {
     "data": {
      "text/html": [
       "<div>\n",
       "<style scoped>\n",
       "    .dataframe tbody tr th:only-of-type {\n",
       "        vertical-align: middle;\n",
       "    }\n",
       "\n",
       "    .dataframe tbody tr th {\n",
       "        vertical-align: top;\n",
       "    }\n",
       "\n",
       "    .dataframe thead th {\n",
       "        text-align: right;\n",
       "    }\n",
       "</style>\n",
       "<table border=\"1\" class=\"dataframe\">\n",
       "  <thead>\n",
       "    <tr style=\"text-align: right;\">\n",
       "      <th></th>\n",
       "      <th>Datetime</th>\n",
       "      <th>P</th>\n",
       "    </tr>\n",
       "  </thead>\n",
       "  <tbody>\n",
       "    <tr>\n",
       "      <td>0</td>\n",
       "      <td>20-03-14 7:30</td>\n",
       "      <td>1526.40</td>\n",
       "    </tr>\n",
       "    <tr>\n",
       "      <td>1</td>\n",
       "      <td>20-03-14 7:45</td>\n",
       "      <td>1609.92</td>\n",
       "    </tr>\n",
       "    <tr>\n",
       "      <td>2</td>\n",
       "      <td>20-03-14 8:00</td>\n",
       "      <td>1621.44</td>\n",
       "    </tr>\n",
       "    <tr>\n",
       "      <td>3</td>\n",
       "      <td>20-03-14 8:15</td>\n",
       "      <td>1704.96</td>\n",
       "    </tr>\n",
       "    <tr>\n",
       "      <td>4</td>\n",
       "      <td>20-03-14 8:30</td>\n",
       "      <td>1785.60</td>\n",
       "    </tr>\n",
       "    <tr>\n",
       "      <td>...</td>\n",
       "      <td>...</td>\n",
       "      <td>...</td>\n",
       "    </tr>\n",
       "    <tr>\n",
       "      <td>194498</td>\n",
       "      <td>05-11-19 9:15</td>\n",
       "      <td>3559.68</td>\n",
       "    </tr>\n",
       "    <tr>\n",
       "      <td>194499</td>\n",
       "      <td>05-11-19 9:30</td>\n",
       "      <td>3484.80</td>\n",
       "    </tr>\n",
       "    <tr>\n",
       "      <td>194500</td>\n",
       "      <td>05-11-19 9:45</td>\n",
       "      <td>3588.48</td>\n",
       "    </tr>\n",
       "    <tr>\n",
       "      <td>194501</td>\n",
       "      <td>05-11-19 10:00</td>\n",
       "      <td>3634.56</td>\n",
       "    </tr>\n",
       "    <tr>\n",
       "      <td>194502</td>\n",
       "      <td>05-11-19 10:15</td>\n",
       "      <td>3519.36</td>\n",
       "    </tr>\n",
       "  </tbody>\n",
       "</table>\n",
       "<p>194503 rows × 2 columns</p>\n",
       "</div>"
      ],
      "text/plain": [
       "              Datetime        P\n",
       "0        20-03-14 7:30  1526.40\n",
       "1        20-03-14 7:45  1609.92\n",
       "2        20-03-14 8:00  1621.44\n",
       "3        20-03-14 8:15  1704.96\n",
       "4        20-03-14 8:30  1785.60\n",
       "...                ...      ...\n",
       "194498   05-11-19 9:15  3559.68\n",
       "194499   05-11-19 9:30  3484.80\n",
       "194500   05-11-19 9:45  3588.48\n",
       "194501  05-11-19 10:00  3634.56\n",
       "194502  05-11-19 10:15  3519.36\n",
       "\n",
       "[194503 rows x 2 columns]"
      ]
     },
     "execution_count": 3,
     "metadata": {},
     "output_type": "execute_result"
    }
   ],
   "source": [
    "data"
   ]
  },
  {
   "cell_type": "code",
   "execution_count": 4,
   "metadata": {},
   "outputs": [
    {
     "data": {
      "text/html": [
       "<div>\n",
       "<style scoped>\n",
       "    .dataframe tbody tr th:only-of-type {\n",
       "        vertical-align: middle;\n",
       "    }\n",
       "\n",
       "    .dataframe tbody tr th {\n",
       "        vertical-align: top;\n",
       "    }\n",
       "\n",
       "    .dataframe thead th {\n",
       "        text-align: right;\n",
       "    }\n",
       "</style>\n",
       "<table border=\"1\" class=\"dataframe\">\n",
       "  <thead>\n",
       "    <tr style=\"text-align: right;\">\n",
       "      <th></th>\n",
       "      <th>Datetime</th>\n",
       "      <th>P</th>\n",
       "    </tr>\n",
       "  </thead>\n",
       "  <tbody>\n",
       "    <tr>\n",
       "      <td>0</td>\n",
       "      <td>2014-03-20 07:30:00</td>\n",
       "      <td>1526.40</td>\n",
       "    </tr>\n",
       "    <tr>\n",
       "      <td>1</td>\n",
       "      <td>2014-03-20 07:45:00</td>\n",
       "      <td>1609.92</td>\n",
       "    </tr>\n",
       "    <tr>\n",
       "      <td>2</td>\n",
       "      <td>2014-03-20 08:00:00</td>\n",
       "      <td>1621.44</td>\n",
       "    </tr>\n",
       "    <tr>\n",
       "      <td>3</td>\n",
       "      <td>2014-03-20 08:15:00</td>\n",
       "      <td>1704.96</td>\n",
       "    </tr>\n",
       "    <tr>\n",
       "      <td>4</td>\n",
       "      <td>2014-03-20 08:30:00</td>\n",
       "      <td>1785.60</td>\n",
       "    </tr>\n",
       "    <tr>\n",
       "      <td>...</td>\n",
       "      <td>...</td>\n",
       "      <td>...</td>\n",
       "    </tr>\n",
       "    <tr>\n",
       "      <td>194498</td>\n",
       "      <td>2019-11-05 09:15:00</td>\n",
       "      <td>3559.68</td>\n",
       "    </tr>\n",
       "    <tr>\n",
       "      <td>194499</td>\n",
       "      <td>2019-11-05 09:30:00</td>\n",
       "      <td>3484.80</td>\n",
       "    </tr>\n",
       "    <tr>\n",
       "      <td>194500</td>\n",
       "      <td>2019-11-05 09:45:00</td>\n",
       "      <td>3588.48</td>\n",
       "    </tr>\n",
       "    <tr>\n",
       "      <td>194501</td>\n",
       "      <td>2019-11-05 10:00:00</td>\n",
       "      <td>3634.56</td>\n",
       "    </tr>\n",
       "    <tr>\n",
       "      <td>194502</td>\n",
       "      <td>2019-11-05 10:15:00</td>\n",
       "      <td>3519.36</td>\n",
       "    </tr>\n",
       "  </tbody>\n",
       "</table>\n",
       "<p>194503 rows × 2 columns</p>\n",
       "</div>"
      ],
      "text/plain": [
       "                  Datetime        P\n",
       "0      2014-03-20 07:30:00  1526.40\n",
       "1      2014-03-20 07:45:00  1609.92\n",
       "2      2014-03-20 08:00:00  1621.44\n",
       "3      2014-03-20 08:15:00  1704.96\n",
       "4      2014-03-20 08:30:00  1785.60\n",
       "...                    ...      ...\n",
       "194498 2019-11-05 09:15:00  3559.68\n",
       "194499 2019-11-05 09:30:00  3484.80\n",
       "194500 2019-11-05 09:45:00  3588.48\n",
       "194501 2019-11-05 10:00:00  3634.56\n",
       "194502 2019-11-05 10:15:00  3519.36\n",
       "\n",
       "[194503 rows x 2 columns]"
      ]
     },
     "execution_count": 4,
     "metadata": {},
     "output_type": "execute_result"
    }
   ],
   "source": [
    "data['Datetime'] = pd.to_datetime(data.Datetime, format='%d-%m-%y %H:%M')\n",
    "data\n"
   ]
  },
  {
   "cell_type": "code",
   "execution_count": 5,
   "metadata": {},
   "outputs": [],
   "source": [
    "data.set_index('Datetime', inplace = True)"
   ]
  },
  {
   "cell_type": "code",
   "execution_count": 6,
   "metadata": {},
   "outputs": [
    {
     "name": "stderr",
     "output_type": "stream",
     "text": [
      "c:\\users\\tolugben\\appdata\\local\\programs\\python\\python37\\lib\\site-packages\\ipykernel_launcher.py:7: RuntimeWarning: invalid value encountered in less_equal\n",
      "  import sys\n",
      "c:\\users\\tolugben\\appdata\\local\\programs\\python\\python37\\lib\\site-packages\\ipykernel_launcher.py:7: RuntimeWarning: invalid value encountered in greater_equal\n",
      "  import sys\n"
     ]
    }
   ],
   "source": [
    "for count, value in enumerate(data.values, start=0):  # Can improve it.\n",
    "    if value <= 400 or value >= 20000 or pd.isna(data.values[count]): #ps.isna checks if data is na\n",
    "        data.values[count] = data.values[count - 168*4]  # Takes previous week's value\n",
    "\n",
    "data = data.resample('15min').mean()\n",
    "for count, value in enumerate(data.values, start=0):  # Can improve it.\n",
    "    if value <= 400 or value >= 20000 or pd.isna(data.values[count]): #ps.isna checks if data is na\n",
    "        data.values[count] = data.values[count - 168*4]  # Takes previous week's value\n"
   ]
  },
  {
   "cell_type": "code",
   "execution_count": 7,
   "metadata": {},
   "outputs": [
    {
     "data": {
      "text/html": [
       "<div>\n",
       "<style scoped>\n",
       "    .dataframe tbody tr th:only-of-type {\n",
       "        vertical-align: middle;\n",
       "    }\n",
       "\n",
       "    .dataframe tbody tr th {\n",
       "        vertical-align: top;\n",
       "    }\n",
       "\n",
       "    .dataframe thead th {\n",
       "        text-align: right;\n",
       "    }\n",
       "</style>\n",
       "<table border=\"1\" class=\"dataframe\">\n",
       "  <thead>\n",
       "    <tr style=\"text-align: right;\">\n",
       "      <th></th>\n",
       "      <th>P</th>\n",
       "    </tr>\n",
       "    <tr>\n",
       "      <th>Datetime</th>\n",
       "      <th></th>\n",
       "    </tr>\n",
       "  </thead>\n",
       "  <tbody>\n",
       "    <tr>\n",
       "      <td>2015-01-01 00:00:00</td>\n",
       "      <td>463.68</td>\n",
       "    </tr>\n",
       "    <tr>\n",
       "      <td>2015-01-01 00:15:00</td>\n",
       "      <td>440.64</td>\n",
       "    </tr>\n",
       "    <tr>\n",
       "      <td>2015-01-01 00:30:00</td>\n",
       "      <td>434.88</td>\n",
       "    </tr>\n",
       "    <tr>\n",
       "      <td>2015-01-01 00:45:00</td>\n",
       "      <td>443.52</td>\n",
       "    </tr>\n",
       "    <tr>\n",
       "      <td>2015-01-01 01:00:00</td>\n",
       "      <td>460.80</td>\n",
       "    </tr>\n",
       "    <tr>\n",
       "      <td>...</td>\n",
       "      <td>...</td>\n",
       "    </tr>\n",
       "    <tr>\n",
       "      <td>2019-11-05 09:15:00</td>\n",
       "      <td>3559.68</td>\n",
       "    </tr>\n",
       "    <tr>\n",
       "      <td>2019-11-05 09:30:00</td>\n",
       "      <td>3484.80</td>\n",
       "    </tr>\n",
       "    <tr>\n",
       "      <td>2019-11-05 09:45:00</td>\n",
       "      <td>3588.48</td>\n",
       "    </tr>\n",
       "    <tr>\n",
       "      <td>2019-11-05 10:00:00</td>\n",
       "      <td>3634.56</td>\n",
       "    </tr>\n",
       "    <tr>\n",
       "      <td>2019-11-05 10:15:00</td>\n",
       "      <td>3519.36</td>\n",
       "    </tr>\n",
       "  </tbody>\n",
       "</table>\n",
       "<p>169866 rows × 1 columns</p>\n",
       "</div>"
      ],
      "text/plain": [
       "                           P\n",
       "Datetime                    \n",
       "2015-01-01 00:00:00   463.68\n",
       "2015-01-01 00:15:00   440.64\n",
       "2015-01-01 00:30:00   434.88\n",
       "2015-01-01 00:45:00   443.52\n",
       "2015-01-01 01:00:00   460.80\n",
       "...                      ...\n",
       "2019-11-05 09:15:00  3559.68\n",
       "2019-11-05 09:30:00  3484.80\n",
       "2019-11-05 09:45:00  3588.48\n",
       "2019-11-05 10:00:00  3634.56\n",
       "2019-11-05 10:15:00  3519.36\n",
       "\n",
       "[169866 rows x 1 columns]"
      ]
     },
     "execution_count": 7,
     "metadata": {},
     "output_type": "execute_result"
    }
   ],
   "source": [
    "data=data['2015':]\n",
    "data\n"
   ]
  },
  {
   "cell_type": "code",
   "execution_count": 8,
   "metadata": {},
   "outputs": [
    {
     "data": {
      "text/plain": [
       "<matplotlib.axes._subplots.AxesSubplot at 0x2381c987ba8>"
      ]
     },
     "execution_count": 8,
     "metadata": {},
     "output_type": "execute_result"
    },
    {
     "data": {
      "image/png": "[encoded data removed]",
      "text/plain": [
       "<Figure size 432x288 with 1 Axes>"
      ]
     },
     "metadata": {
      "needs_background": "light"
     },
     "output_type": "display_data"
    }
   ],
   "source": [
    "data.plot()"
   ]
  },
  {
   "cell_type": "code",
   "execution_count": 9,
   "metadata": {},
   "outputs": [],
   "source": [
    "data = data.resample('D').mean()\n",
    "datacopy = data.copy()"
   ]
  },
  {
   "cell_type": "code",
   "execution_count": 10,
   "metadata": {},
   "outputs": [
    {
     "data": {
      "text/plain": [
       "<matplotlib.axes._subplots.AxesSubplot at 0x2381b4bc7b8>"
      ]
     },
     "execution_count": 10,
     "metadata": {},
     "output_type": "execute_result"
    },
    {
     "data": {
      "image/png": "[encoded data removed]",
      "text/plain": [
       "<Figure size 432x288 with 1 Axes>"
      ]
     },
     "metadata": {
      "needs_background": "light"
     },
     "output_type": "display_data"
    }
   ],
   "source": [
    "data.plot()"
   ]
  },
  {
   "cell_type": "markdown",
   "metadata": {},
   "source": [
    "### Converting series to stationary\n",
    "Stationary means mean, variance and covariance is constant over periods."
   ]
  },
  {
   "cell_type": "code",
   "execution_count": 11,
   "metadata": {},
   "outputs": [],
   "source": [
    "from statsmodels.graphics.tsaplots import plot_acf"
   ]
  },
  {
   "cell_type": "code",
   "execution_count": 12,
   "metadata": {},
   "outputs": [
    {
     "data": {
      "text/html": [
       "<div>\n",
       "<style scoped>\n",
       "    .dataframe tbody tr th:only-of-type {\n",
       "        vertical-align: middle;\n",
       "    }\n",
       "\n",
       "    .dataframe tbody tr th {\n",
       "        vertical-align: top;\n",
       "    }\n",
       "\n",
       "    .dataframe thead th {\n",
       "        text-align: right;\n",
       "    }\n",
       "</style>\n",
       "<table border=\"1\" class=\"dataframe\">\n",
       "  <thead>\n",
       "    <tr style=\"text-align: right;\">\n",
       "      <th></th>\n",
       "      <th>P</th>\n",
       "    </tr>\n",
       "    <tr>\n",
       "      <th>Datetime</th>\n",
       "      <th></th>\n",
       "    </tr>\n",
       "  </thead>\n",
       "  <tbody>\n",
       "    <tr>\n",
       "      <td>2019-11-01</td>\n",
       "      <td>-68.940000</td>\n",
       "    </tr>\n",
       "    <tr>\n",
       "      <td>2019-11-02</td>\n",
       "      <td>-393.120000</td>\n",
       "    </tr>\n",
       "    <tr>\n",
       "      <td>2019-11-03</td>\n",
       "      <td>30.180000</td>\n",
       "    </tr>\n",
       "    <tr>\n",
       "      <td>2019-11-04</td>\n",
       "      <td>592.800000</td>\n",
       "    </tr>\n",
       "    <tr>\n",
       "      <td>2019-11-05</td>\n",
       "      <td>-297.137143</td>\n",
       "    </tr>\n",
       "  </tbody>\n",
       "</table>\n",
       "</div>"
      ],
      "text/plain": [
       "                     P\n",
       "Datetime              \n",
       "2019-11-01  -68.940000\n",
       "2019-11-02 -393.120000\n",
       "2019-11-03   30.180000\n",
       "2019-11-04  592.800000\n",
       "2019-11-05 -297.137143"
      ]
     },
     "execution_count": 12,
     "metadata": {},
     "output_type": "execute_result"
    }
   ],
   "source": [
    "data_diff = data.diff(periods=1)\n",
    "# integrated of order 1, denoted by d (for diff), one of the parameter of ARIMA model\n",
    "data_diff = data_diff[1:]\n",
    "data_diff.tail()"
   ]
  },
  {
   "cell_type": "code",
   "execution_count": 13,
   "metadata": {},
   "outputs": [
    {
     "data": {
      "image/png": "[encoded data removed]",
      "text/plain": [
       "<Figure size 432x288 with 1 Axes>"
      ]
     },
     "execution_count": 13,
     "metadata": {},
     "output_type": "execute_result"
    },
    {
     "data": {
      "image/png": "[encoded data removed]",
      "text/plain": [
       "<Figure size 432x288 with 1 Axes>"
      ]
     },
     "metadata": {
      "needs_background": "light"
     },
     "output_type": "display_data"
    }
   ],
   "source": [
    "plot_acf(data_diff)\n"
   ]
  },
  {
   "cell_type": "code",
   "execution_count": 14,
   "metadata": {},
   "outputs": [
    {
     "data": {
      "text/plain": [
       "<matplotlib.axes._subplots.AxesSubplot at 0x23824676eb8>"
      ]
     },
     "execution_count": 14,
     "metadata": {},
     "output_type": "execute_result"
    },
    {
     "data": {
      "image/png": "[encoded data removed]",
      "text/plain": [
       "<Figure size 432x288 with 1 Axes>"
      ]
     },
     "metadata": {
      "needs_background": "light"
     },
     "output_type": "display_data"
    }
   ],
   "source": [
    "data_diff.plot()"
   ]
  },
  {
   "cell_type": "code",
   "execution_count": 15,
   "metadata": {},
   "outputs": [
    {
     "data": {
      "text/plain": [
       "31"
      ]
     },
     "execution_count": 15,
     "metadata": {},
     "output_type": "execute_result"
    }
   ],
   "source": [
    "X = data.values\n",
    "split=int(len(X)-31) #Takes about 95% of data\n",
    "train = X[:split]\n",
    "test = X[split:]\n",
    "predictions = []\n",
    "len(test)"
   ]
  },
  {
   "cell_type": "code",
   "execution_count": 16,
   "metadata": {},
   "outputs": [
    {
     "data": {
      "text/plain": [
       "True"
      ]
     },
     "execution_count": 16,
     "metadata": {},
     "output_type": "execute_result"
    }
   ],
   "source": [
    "X.size == (train.size + test.size)"
   ]
  },
  {
   "cell_type": "markdown",
   "metadata": {},
   "source": [
    "# Autoreggresive AR Model"
   ]
  },
  {
   "cell_type": "code",
   "execution_count": 17,
   "metadata": {},
   "outputs": [],
   "source": [
    "from statsmodels.tsa.ar_model import AR\n",
    "from sklearn.metrics import mean_squared_error\n",
    "from math import sqrt\n",
    "model_ar = AR(train)\n",
    "model_ar_fit = model_ar.fit()"
   ]
  },
  {
   "cell_type": "code",
   "execution_count": 18,
   "metadata": {},
   "outputs": [],
   "source": [
    "predictions=model_ar_fit.predict(start=split,end=len(X)-1) #Was longer by one prediction"
   ]
  },
  {
   "cell_type": "code",
   "execution_count": 19,
   "metadata": {},
   "outputs": [
    {
     "data": {
      "text/plain": [
       "[<matplotlib.lines.Line2D at 0x23824a50f98>]"
      ]
     },
     "execution_count": 19,
     "metadata": {},
     "output_type": "execute_result"
    },
    {
     "data": {
      "image/png": "[encoded data removed]",
      "text/plain": [
       "<Figure size 432x288 with 1 Axes>"
      ]
     },
     "metadata": {
      "needs_background": "light"
     },
     "output_type": "display_data"
    }
   ],
   "source": [
    "plt.plot(test)\n",
    "plt.plot(predictions,color='red')"
   ]
  },
  {
   "cell_type": "code",
   "execution_count": 20,
   "metadata": {},
   "outputs": [
    {
     "data": {
      "text/plain": [
       "True"
      ]
     },
     "execution_count": 20,
     "metadata": {},
     "output_type": "execute_result"
    }
   ],
   "source": [
    "len(test) == len(predictions)"
   ]
  },
  {
   "cell_type": "code",
   "execution_count": 21,
   "metadata": {},
   "outputs": [
    {
     "data": {
      "text/plain": [
       "135.69668217773878"
      ]
     },
     "execution_count": 21,
     "metadata": {},
     "output_type": "execute_result"
    }
   ],
   "source": [
    "mse = mean_squared_error(test, predictions)\n",
    "rmse = sqrt(mse)\n",
    "rmse"
   ]
  },
  {
   "cell_type": "code",
   "execution_count": 22,
   "metadata": {},
   "outputs": [
    {
     "data": {
      "text/plain": [
       "10.604148476532645"
      ]
     },
     "execution_count": 22,
     "metadata": {},
     "output_type": "execute_result"
    }
   ],
   "source": [
    "summation = list()\n",
    "for i in test:\n",
    "    for j in predictions:\n",
    "        value = abs((i-j)/i)[0] #It returned an array\n",
    "        summation.append(value)\n",
    "    \n",
    "MeanAbsolutePercentError = (sum(summation)/len(summation))*100\n",
    "MeanAbsolutePercentError"
   ]
  },
  {
   "cell_type": "code",
   "execution_count": 46,
   "metadata": {},
   "outputs": [
    {
     "data": {
      "text/plain": [
       "25"
      ]
     },
     "execution_count": 46,
     "metadata": {},
     "output_type": "execute_result"
    }
   ],
   "source": []
  },
  {
   "cell_type": "markdown",
   "metadata": {},
   "source": [
    "# ARIMA model"
   ]
  },
  {
   "cell_type": "code",
   "execution_count": 23,
   "metadata": {},
   "outputs": [],
   "source": [
    "from statsmodels.tsa.arima_model import ARIMA"
   ]
  },
  {
   "cell_type": "code",
   "execution_count": 24,
   "metadata": {},
   "outputs": [
    {
     "name": "stdout",
     "output_type": "stream",
     "text": [
      "19959.61141629364\n"
     ]
    },
    {
     "name": "stderr",
     "output_type": "stream",
     "text": [
      "c:\\users\\tolugben\\appdata\\local\\programs\\python\\python37\\lib\\site-packages\\statsmodels\\base\\model.py:492: HessianInversionWarning: Inverting hessian failed, no bse or cov_params available\n",
      "  'available', HessianInversionWarning)\n"
     ]
    }
   ],
   "source": [
    "#p,d,q  p = periods taken for autoregressive model\n",
    "#d -> Integrated order, difference\n",
    "# q periods in moving average model\n",
    "\"\"\" Current Best Values For Previous 31 days\n",
    "(6, 1, 7) 107\n",
    "(11, 1, 13) 113\n",
    "(8, 1, 8) 118\n",
    "(12,1,11) 124\n",
    "(5, 1 , 7) 122\n",
    "(13, 1, 4) 122\n",
    "(6, 1, 5) 122\n",
    "(7,1,5) 125\n",
    "(13, 1, 11) 125\n",
    "(14, 1, 11) 127\n",
    "\"\"\"\n",
    "pdq = 6,1,7\n",
    "model_arima = ARIMA(train,order=(pdq))\n",
    "model_arima_fit = model_arima.fit()\n",
    "print(model_arima_fit.aic)"
   ]
  },
  {
   "cell_type": "code",
   "execution_count": 25,
   "metadata": {},
   "outputs": [
    {
     "data": {
      "text/plain": [
       "array([2137.57299263, 2635.02467583, 2698.58198355, 2713.1124073 ,\n",
       "       2697.17971132, 2624.53926859, 2183.19836989, 2158.30662046,\n",
       "       2655.51764056, 2719.12062145])"
      ]
     },
     "execution_count": 25,
     "metadata": {},
     "output_type": "execute_result"
    }
   ],
   "source": [
    "predictions= model_arima_fit.forecast(steps=len(test))[0]\n",
    "predictions[:10]"
   ]
  },
  {
   "cell_type": "code",
   "execution_count": 26,
   "metadata": {},
   "outputs": [
    {
     "data": {
      "text/plain": [
       "[<matplotlib.lines.Line2D at 0x23824a976d8>]"
      ]
     },
     "execution_count": 26,
     "metadata": {},
     "output_type": "execute_result"
    },
    {
     "data": {
      "image/png": "[encoded data removed]",
      "text/plain": [
       "<Figure size 432x288 with 1 Axes>"
      ]
     },
     "metadata": {
      "needs_background": "light"
     },
     "output_type": "display_data"
    }
   ],
   "source": [
    "plt.plot(test)\n",
    "plt.plot(predictions,color='red')"
   ]
  },
  {
   "cell_type": "code",
   "execution_count": 27,
   "metadata": {},
   "outputs": [
    {
     "data": {
      "text/plain": [
       "True"
      ]
     },
     "execution_count": 27,
     "metadata": {},
     "output_type": "execute_result"
    }
   ],
   "source": [
    "len(test) == len(predictions)"
   ]
  },
  {
   "cell_type": "code",
   "execution_count": 28,
   "metadata": {},
   "outputs": [
    {
     "data": {
      "text/plain": [
       "107.34015114083823"
      ]
     },
     "execution_count": 28,
     "metadata": {},
     "output_type": "execute_result"
    }
   ],
   "source": [
    "mse = mean_squared_error(test, predictions)\n",
    "rmse = sqrt(mse)\n",
    "rmse"
   ]
  },
  {
   "cell_type": "code",
   "execution_count": 29,
   "metadata": {},
   "outputs": [
    {
     "data": {
      "text/plain": [
       "10.556623170383117"
      ]
     },
     "execution_count": 29,
     "metadata": {},
     "output_type": "execute_result"
    }
   ],
   "source": [
    "summation = list()\n",
    "for i in test:\n",
    "    for j in predictions:\n",
    "        value = abs((i-j)/i)[0] #It returned an array\n",
    "        summation.append(value)\n",
    "    \n",
    "MeanAbsolutePercentError = (sum(summation)/len(summation))*100\n",
    "MeanAbsolutePercentError"
   ]
  },
  {
   "cell_type": "code",
   "execution_count": 30,
   "metadata": {},
   "outputs": [],
   "source": [
    "# import itertools\n",
    "# p=q=range(0,16)\n",
    "# d=range(0,3)\n",
    "# pdq = list(itertools.product(p,d,q)) #All possible combinations"
   ]
  },
  {
   "cell_type": "code",
   "execution_count": 31,
   "metadata": {
    "scrolled": true
   },
   "outputs": [],
   "source": [
    "# import warnings\n",
    "# warnings.filterwarnings('ignore')\n",
    "# array = []\n",
    "# for param in pdq:\n",
    "#     try:\n",
    "#         model_arima = ARIMA(train,order=param)\n",
    "#         model_arima_fit = model_arima.fit()\n",
    "#         predictions= model_arima_fit.forecast(steps=len(test))[0]\n",
    "#         mse = mean_squared_error(test, predictions)\n",
    "#         rmse = sqrt(mse)\n",
    "#         array.append(rmse)\n",
    "#         print(param,rmse)\n",
    "#     except:\n",
    "#         continue\n",
    "    "
   ]
  },
  {
   "cell_type": "markdown",
   "metadata": {},
   "source": [
    "### Top 20 p,d,q parameters with the lowest rmse values from p,q in range(0,16), and d in range(0,3);\n",
    "\n",
    "This test was done with 95% training data from the 2015 - 2019(Nov. 5) dataset. The parameters and the rmse values can be seen below."
   ]
  },
  {
   "cell_type": "raw",
   "metadata": {},
   "source": [
    "(8, 1, 6) 129.62209672746982\n",
    "(6, 1, 7) 131.31504784628083\n",
    "(6, 1, 9) 140.62778527255682\n",
    "(6, 1, 10) 150.67963674651287\n",
    "(11, 1, 13) 153.1046883576852\n",
    "(6, 1, 13) 153.57794113405518\n",
    "(12, 1, 11) 168.03396883989643\n",
    "(11, 1, 11) 169.4657103644702\n",
    "(6, 1, 5) 173.85796470551952\n",
    "(10, 2, 5) 175.12055190253994\n",
    "(14, 2, 5) 179.5979219227088\n",
    "(13, 1, 11) 180.26901326229526\n",
    "(11, 1, 12) 180.5742425661551\n",
    "(14, 1, 11) 181.17928013973182\n",
    "(5, 1, 7) 183.38845536519202\n",
    "(13, 1, 10) 184.43417203574623\n",
    "(8, 1, 8) 185.53493977488716\n",
    "(7, 1, 5) 186.9613912089538\n",
    "(13, 1, 9) 187.73530590596587\n",
    "(13, 1, 4) 188.17690201264108"
   ]
  },
  {
   "cell_type": "markdown",
   "metadata": {},
   "source": [
    "### Top 15 p,d,q parameters with the lowest aic values from range(0,15); \n",
    "This test was done with 95% training data from the 2016 - 2019(Nov. 1) dataset. \n",
    "The parameters and the aic values can be seen below."
   ]
  },
  {
   "cell_type": "raw",
   "metadata": {},
   "source": [
    "(13, 1, 11) 15469.86157332266\n",
    "(13, 0, 11) 15483.222795852178\n",
    "(12, 1, 11) 15484.746637235758\n",
    "(14, 1, 11) 15486.543592852127\n",
    "(14, 0, 11) 15495.450564826959\n",
    "(8, 1, 8) 15512.008842062025\n",
    "(6, 1, 7) 15518.355710612468\n",
    "(7, 0, 10) 15519.1229130061\n",
    "(12, 1, 6) 15523.646794645412\n",
    "(13, 1, 6) 15526.719265515057\n",
    "(7, 1, 7) 15531.399095228413\n",
    "(8, 1, 7) 15531.799154899309\n",
    "(7, 0, 8) 15531.901200890714\n",
    "(9, 0, 8) 15532.268170927604\n",
    "(7, 0, 9) 15537.404886402883\n"
   ]
  },
  {
   "cell_type": "markdown",
   "metadata": {},
   "source": [
    "### All the tested parameters and their rmse\n",
    "\n",
    "This test was done with 95% training data from the 2015 - 2019(Nov. 5) dataset. The parameters and the rmse values can be seen below."
   ]
  },
  {
   "cell_type": "markdown",
   "metadata": {},
   "source": [
    "(0, 0, 0) 1202.5403716948229\n",
    "(0, 0, 1) 1196.5304115052993\n",
    "(0, 1, 0) 300.05138200322835\n",
    "(0, 1, 1) 308.11265182416685\n",
    "(0, 1, 2) 291.507221036548\n",
    "(0, 1, 3) 292.98274129215156\n",
    "(0, 1, 4) 293.21010279860764\n",
    "(0, 1, 7) 292.2695999087447\n",
    "(0, 1, 8) 290.977700766777\n",
    "(0, 1, 9) 297.7924696083462\n",
    "(0, 1, 10) 298.10274145174265\n",
    "(0, 1, 15) 299.2102901215291\n",
    "(0, 2, 0) 1359.8624559056998\n",
    "(0, 2, 1) 303.44946594939694\n",
    "(0, 2, 2) 314.27384178985807\n",
    "(1, 0, 0) 977.7481263434046\n",
    "(1, 0, 1) 1086.7798237537206\n",
    "(1, 0, 2) 349.1191017581426\n",
    "(1, 0, 3) 350.2541910478014\n",
    "(1, 0, 4) 359.1611579672495\n",
    "(1, 0, 5) 507.54155591039165\n",
    "(1, 0, 6) 373.3398349550137\n",
    "(1, 0, 7) 428.3677476805959\n",
    "(1, 0, 8) 406.33853721204684\n",
    "(1, 0, 9) 373.6241814922306\n",
    "(1, 0, 10) 372.32312763615664\n",
    "(1, 0, 11) 376.29807100131023\n",
    "(1, 0, 12) 376.5286170477204\n",
    "(1, 0, 13) 378.4801045798037\n",
    "(1, 0, 14) 404.3624703353701\n",
    "(1, 0, 15) 409.73042620390623\n",
    "(1, 1, 0) 300.79405422192224\n",
    "(1, 1, 1) 295.9775053101903\n",
    "(1, 1, 2) 292.76175922779606\n",
    "(1, 1, 3) 292.9603838999621\n",
    "(1, 1, 4) 293.85364639488745\n",
    "(1, 1, 5) 292.81010889850114\n",
    "(1, 1, 6) 289.20134084826094\n",
    "(1, 1, 7) 291.8460490828474\n",
    "(1, 1, 8) 297.85917678990313\n",
    "(1, 1, 9) 298.0448458656295\n",
    "(1, 1, 10) 286.7805892540057\n",
    "(1, 1, 11) 290.91985561431005\n",
    "(1, 1, 12) 288.4255926500041\n",
    "(1, 1, 13) 296.6606928086319\n",
    "(1, 1, 14) 299.4195938053417\n",
    "(1, 1, 15) 300.41243321942994\n",
    "(1, 2, 0) 713.8345992536099\n",
    "(1, 2, 3) 326.09222785852006\n",
    "(2, 0, 0) 1031.0799660766024\n",
    "(2, 0, 1) 324.5339539404211\n",
    "(2, 0, 2) 349.26945962751324\n",
    "(2, 0, 3) 350.4268937564661\n",
    "(2, 0, 4) 350.9139827155262\n",
    "(2, 0, 5) 399.99694723598935\n",
    "(2, 0, 6) 391.4754178563295\n",
    "(2, 0, 7) 423.9699569274314\n",
    "(2, 0, 8) 378.4719692621921\n",
    "(2, 0, 9) 374.78323739158907\n",
    "(2, 0, 10) 372.76632016124256\n",
    "(2, 0, 11) 377.24454881840325\n",
    "(2, 0, 12) 368.5530322548336\n",
    "(2, 0, 13) 402.41539509077785\n",
    "(2, 0, 14) 407.3818554090754\n",
    "(2, 0, 15) 403.6315167804329\n",
    "(2, 1, 0) 302.56416965078625\n",
    "(2, 1, 1) 293.5263939029437\n",
    "(2, 1, 2) 292.3627401765963\n",
    "(2, 1, 3) 246.31926722279223\n",
    "(2, 1, 4) 292.5998017222909\n",
    "(2, 1, 6) 295.00325616138736\n",
    "(2, 1, 7) 291.25083475946735\n",
    "(2, 1, 8) 298.46404004985726\n",
    "(2, 1, 9) 297.5584081003585\n",
    "(2, 1, 10) 223.63363266025428\n",
    "(2, 1, 12) 218.86255353927177\n",
    "(2, 1, 13) 219.90209263272686\n",
    "(2, 1, 14) 296.43775124577235\n",
    "(2, 1, 15) 222.79807334190238\n",
    "(2, 2, 0) 6469.102328368864\n",
    "(2, 2, 1) 306.38961096115594\n",
    "(2, 2, 2) 280.50778890847744\n",
    "(2, 2, 7) 338.110402184795\n",
    "(3, 0, 0) 778.0276920791102\n",
    "(3, 0, 1) 325.05030349836204\n",
    "(3, 0, 2) 352.9827431365558\n",
    "(3, 0, 3) 295.792369579771\n",
    "(3, 0, 4) 317.4246720774562\n",
    "(3, 0, 5) 1337.6591068433722\n",
    "(3, 0, 6) 445.31254137400464\n",
    "(3, 0, 7) 394.9060508035156\n",
    "(3, 0, 8) 379.6681677866613\n",
    "(3, 0, 9) 374.7889518690453\n",
    "(3, 0, 10) 985.4142880117538\n",
    "(3, 0, 11) 1035.4622973331525\n",
    "(3, 0, 12) 260.34856335834394\n",
    "(3, 0, 13) 263.31028296148014\n",
    "(3, 0, 14) 397.5344929247199\n",
    "(3, 0, 15) 266.3476315483827\n",
    "(3, 1, 0) 297.37711629502024\n",
    "(3, 1, 1) 293.4363727600652\n",
    "(3, 1, 2) 291.7124170885999\n",
    "(3, 1, 3) 275.7367302276037\n",
    "(3, 1, 4) 292.8799808891282\n",
    "(3, 1, 5) 277.60084156797603\n",
    "(3, 1, 6) 291.7677618299018\n",
    "(3, 1, 7) 273.73153215049757\n",
    "(3, 1, 8) 219.7210806195096\n",
    "(3, 1, 9) 297.5776695254665\n",
    "(3, 1, 10) 283.8709050350288\n",
    "(3, 1, 11) 224.07188365277327\n",
    "(3, 1, 12) 219.53973212292127\n",
    "(3, 1, 13) 4648.615346085207\n",
    "(3, 1, 14) 225.4763399489097\n",
    "(3, 1, 15) 226.4933898494041\n",
    "(3, 2, 0) 6621.04029114762\n",
    "(3, 2, 1) 299.14186126402376\n",
    "(3, 2, 2) 316.32001879715625\n",
    "(3, 2, 7) 355.82830766497045\n",
    "(4, 0, 0) 749.5489076541658\n",
    "(4, 0, 1) 359.3841610581637\n",
    "(4, 0, 2) 353.35412408831843\n",
    "(4, 0, 3) 302.57932282817234\n",
    "(4, 0, 4) 318.0028978040758\n",
    "(4, 0, 5) 25243.61079692479\n",
    "(4, 0, 6) 381.7696731494399\n",
    "(4, 0, 7) 1892.7922711818896\n",
    "(4, 0, 8) 260.0039242334618\n",
    "(4, 0, 9) 378.0348438423702\n",
    "(4, 0, 10) 702.3057893417615\n",
    "(4, 0, 12) 5111.73702697372\n",
    "(4, 0, 14) 601.8361780661079\n",
    "(4, 0, 15) 270.7504624607335\n",
    "(4, 1, 0) 286.4570808146283\n",
    "(4, 1, 1) 294.52976221626767\n",
    "(4, 1, 2) 239.26179418614305\n",
    "(4, 1, 3) 242.04815016375903\n",
    "(4, 1, 5) 1423.4312775895194\n",
    "(4, 1, 7) 1590.7824143078221\n",
    "(4, 1, 8) 6461.459038449926\n",
    "(4, 1, 9) 16047.849961794942\n",
    "(4, 1, 10) 1377.4461834168087\n",
    "(4, 1, 11) 6678.796058761042\n",
    "(4, 1, 12) 289.6021243419559\n",
    "(4, 1, 13) 13090.561612488496\n",
    "(4, 1, 14) 191.88052120963883\n",
    "(4, 1, 15) 189.89532404292353\n",
    "(4, 2, 0) 6458.860329839039\n",
    "(4, 2, 1) 277.63118711422845\n",
    "(4, 2, 2) 279.7788452436807\n",
    "(4, 2, 7) 713.5351908909468\n",
    "(5, 0, 0) 554.8551930380825\n",
    "(5, 0, 1) 372.0203383166562\n",
    "(5, 0, 2) 425.8186034009694\n",
    "(5, 0, 3) 413.4006131545086\n",
    "(5, 0, 4) 9352.44476235593\n",
    "(5, 0, 5) 86996.25501715239\n",
    "(5, 0, 6) 2787.027560520458\n",
    "(5, 0, 7) 3053.4781840058918\n",
    "(5, 0, 8) 16334.767532449638\n",
    "(5, 0, 9) 9060.005209979405\n",
    "(5, 0, 10) 61133.16082384112\n",
    "(5, 0, 11) 7198.650928465768\n",
    "(5, 0, 12) 2428.4129868340465\n",
    "(5, 0, 13) 75487.92812366993\n",
    "(5, 0, 14) 16615.011756110285\n",
    "(5, 0, 15) 3858.7896470912883\n",
    "(5, 1, 0) 297.95319147009707\n",
    "(5, 1, 1) 300.8140178057353\n",
    "(5, 1, 2) 277.0923096621473\n",
    "(5, 1, 3) 283.7684563570507\n",
    "(5, 1, 4) 317.14091442444396\n",
    "(5, 1, 5) 8825.68403184981\n",
    "(5, 1, 6) 392.34026999587735\n",
    "(5, 1, 7) 183.38845536519202\n",
    "(5, 1, 8) 191.41397644284356\n",
    "(5, 1, 9) 193.32275754753888\n",
    "(5, 1, 10) 200.92591367783047\n",
    "(5, 1, 11) 196.39433138140285\n",
    "(5, 1, 12) 195.8555753899803\n",
    "(5, 1, 13) 193.24000841539015\n",
    "(5, 1, 14) 212.52302293207845\n",
    "(5, 1, 15) 207.6088317442411\n",
    "(5, 2, 0) 1588.6308364832787\n",
    "(5, 2, 1) 280.4271431902438\n",
    "(5, 2, 2) 755.2908390990767\n",
    "(5, 2, 3) 259.5253109181519\n",
    "(5, 2, 4) 368.67954628297275\n",
    "(5, 2, 5) 283.5998534054839\n",
    "(6, 0, 0) 392.1257032369011\n",
    "(6, 0, 1) 375.36772555330464\n",
    "(6, 0, 2) 336.6196666723646\n",
    "(6, 0, 3) 324.9136585883213\n",
    "(6, 0, 5) 250.31703656744992\n",
    "(6, 0, 7) 256.1259764078316\n",
    "(6, 0, 8) 255.3305240991438\n",
    "(6, 0, 9) 257.78491505461056\n",
    "(6, 0, 10) 248.36087700970927\n",
    "(6, 0, 11) 243.68674812286199\n",
    "(6, 0, 12) 248.47995623703673\n",
    "(6, 0, 13) 244.13709652690173\n",
    "(6, 0, 14) 246.55920350956913\n",
    "(6, 0, 15) 249.55701537495958\n",
    "(6, 1, 0) 307.9929794361918\n",
    "(6, 1, 1) 303.29443592359456\n",
    "(6, 1, 3) 276.50540154996287\n",
    "(6, 1, 4) 421.44937592665957\n",
    "(6, 1, 5) 173.85796470551952\n",
    "(6, 1, 6) 5218.567346245409\n",
    "(6, 1, 7) 131.31504784628083\n",
    "(6, 1, 8) 802.4053790736594\n",
    "(6, 1, 9) 140.62778527255682\n",
    "(6, 1, 10) 150.67963674651287\n",
    "(6, 1, 13) 153.57794113405518\n",
    "(6, 2, 0) 863.5091581873669\n",
    "(6, 2, 1) 1192.2869705454832\n",
    "(6, 2, 2) 1215.4579734556198\n",
    "(6, 2, 3) 353.094961861918\n",
    "(6, 2, 4) 258.46724400848484\n",
    "(6, 2, 5) 320.18024764900946\n",
    "(6, 2, 6) 7158.313460453859\n",
    "(7, 0, 0) 338.94575826052807\n",
    "(7, 0, 1) 337.4377016653846\n",
    "(7, 0, 2) 317.51694183857137\n",
    "(7, 0, 3) 331.8304582011359\n",
    "(7, 0, 4) 1448.2192718568672\n",
    "(7, 0, 5) 486.3748246271359\n",
    "(7, 0, 6) 232.27418194422674\n",
    "(7, 0, 7) 244.44317795058785\n",
    "(7, 0, 8) 247.2093082408132\n",
    "(7, 0, 9) 246.3662800188954\n",
    "(7, 0, 10) 239.7568160321743\n",
    "(7, 0, 13) 233.7012913603037\n",
    "(7, 1, 0) 279.81200802687164\n",
    "(7, 1, 1) 284.42820740404915\n",
    "(7, 1, 2) 275.63930320721795\n",
    "(7, 1, 3) 266.4979169438183\n",
    "(7, 1, 4) 225.4455507122991\n",
    "(7, 1, 5) 186.9613912089538\n",
    "(7, 1, 6) 7509.583923101581\n",
    "(7, 1, 7) 520.4908548669098\n",
    "(7, 1, 9) 201.44876399423038\n",
    "(7, 2, 0) 1096.3139357463347\n",
    "(7, 2, 1) 265.22263757781445\n",
    "(7, 2, 2) 271.587696505506\n",
    "(7, 2, 3) 261.67867514649475\n",
    "(7, 2, 4) 349.5064663503349\n",
    "(7, 2, 5) 329.5293172997345\n",
    "(7, 2, 6) 253.5253071668686\n",
    "(8, 0, 0) 455.2705243000503\n",
    "(8, 0, 1) 480.1682598330865\n",
    "(8, 0, 2) 460.83222575280575\n",
    "(8, 0, 3) 461.50424423807294\n",
    "(8, 0, 4) 456.11031993852\n",
    "(8, 0, 5) 248.59759429609414\n",
    "(8, 0, 6) 264.58089723554383\n",
    "(8, 0, 7) 4553.3849468532735\n",
    "(8, 0, 8) 4952.063794319032\n",
    "(8, 0, 9) 4187.235353765929\n",
    "(8, 1, 0) 284.6720547138598\n",
    "(8, 1, 1) 283.4868194597497\n",
    "(8, 1, 2) 219.39574377841416\n",
    "(8, 1, 3) 215.1443387095444\n",
    "(8, 1, 5) 192.73856872617984\n",
    "(8, 1, 6) 129.62209672746982\n",
    "(8, 1, 7) 58790.04716980582\n",
    "(8, 1, 8) 185.53493977488716\n",
    "(8, 1, 9) 188.50050628430566\n",
    "(8, 2, 0) 1163.5460137858165\n",
    "(8, 2, 1) 271.0284153230598\n",
    "(8, 2, 2) 266.58536373912716\n",
    "(8, 2, 4) 30993.49498851098\n",
    "(9, 0, 0) 437.23840411810556\n",
    "(9, 0, 1) 479.6742056949919\n",
    "(9, 0, 2) 331.95203322339825\n",
    "(9, 0, 3) 256.39391552315305\n",
    "(9, 0, 4) 261.2541161352498\n",
    "(9, 0, 5) 258.88623219596656\n",
    "(9, 0, 6) 1993.668862248946\n",
    "(9, 0, 7) 1739.7501473587015\n",
    "(9, 0, 8) 225.63025031993234\n",
    "(9, 0, 9) 231.3745095573996\n",
    "(9, 1, 0) 276.7417697335397\n",
    "(9, 1, 1) 244.05490262869213\n",
    "(9, 1, 2) 237.54809627174805\n",
    "(9, 1, 3) 231.2479330187162\n",
    "(9, 1, 4) 216.54856447703213\n",
    "(9, 1, 5) 207.54116846844093\n",
    "(9, 1, 6) 1068.4795249170554\n",
    "(9, 2, 0) 1186.2195399722375\n",
    "(9, 2, 1) 262.36686118393953\n",
    "(9, 2, 2) 1335.8600934496471\n",
    "(9, 2, 3) 8615.772483461453\n",
    "(9, 2, 5) 6863.093176519226\n",
    "(9, 2, 6) 284.72785297443687\n",
    "(10, 0, 0) 464.1932489677095\n",
    "(10, 0, 1) 293.2764494079537\n",
    "(10, 0, 2) 274.4781656037767\n",
    "(10, 0, 3) 268.6196606419535\n",
    "(10, 0, 4) 257.97866289975394\n",
    "(10, 0, 5) 259.016079995523\n",
    "(10, 0, 6) 4333.940016836003\n",
    "(10, 1, 0) 252.7587734264453\n",
    "(10, 1, 1) 237.8139732394656\n",
    "(10, 1, 2) 227.62335369982586\n",
    "(10, 1, 3) 550.3072299749218\n",
    "(10, 1, 4) 1978.2753132635767\n",
    "(10, 1, 5) 204.26234282097704\n",
    "(10, 1, 6) 2079.1305470847274\n",
    "(10, 2, 0) 1137.9316476014203\n",
    "(10, 2, 1) 236.05274961311093\n",
    "(10, 2, 2) 262.1656892428898\n",
    "(10, 2, 4) 201.34919257330145\n",
    "(10, 2, 5) 175.12055190253994\n",
    "(10, 2, 6) 240.41850907587252\n",
    "(11, 0, 0) 401.95550842138715\n",
    "(11, 0, 1) 338.3295582557505\n",
    "(11, 0, 2) 265.08837637265134\n",
    "(11, 0, 4) 254.8528405330375\n",
    "(11, 0, 5) 253.7843797176004\n",
    "(11, 0, 6) 23167.23587297608\n",
    "(11, 1, 0) 246.57362470168982\n",
    "(11, 1, 1) 237.2799208257336\n",
    "(11, 1, 2) 3286.0715076968618\n",
    "(11, 1, 3) 225.50127035080658\n",
    "(11, 1, 4) 233.04799732592977\n",
    "(11, 1, 5) 207.0680555874122\n",
    "(11, 1, 6) 421.2490128701306\n",
    "(11, 1, 11) 169.4657103644702\n",
    "(11, 1, 12) 180.5742425661551\n",
    "(11, 1, 13) 153.1046883576852\n",
    "(11, 2, 0) 1201.702284498391\n",
    "(11, 2, 1) 1199.097210294075\n",
    "(11, 2, 2) 1681.673546663108\n",
    "(11, 2, 4) 273.53146606609806\n",
    "(11, 2, 5) 5432.725118865427\n",
    "(11, 2, 6) 2041.7138197817255\n",
    "(12, 0, 0) 387.39461474878124\n",
    "(12, 0, 1) 338.86035255991675\n",
    "(12, 0, 2) 9236.640752392295\n",
    "(12, 0, 3) 265.1528085972666\n",
    "(12, 0, 4) 269.2137924713397\n",
    "(12, 0, 5) 256.2990256804115\n",
    "(12, 0, 6) 422.2455531626136\n",
    "(12, 0, 11) 266.2818945290067\n",
    "(12, 0, 12) 227.8612582740001\n",
    "(12, 0, 13) 272.0775211267004\n",
    "(12, 1, 0) 229.31169807367334\n",
    "(12, 1, 1) 229.95633010479935\n",
    "(12, 1, 2) 214.20952458036862\n",
    "(12, 1, 3) 212.891377597556\n",
    "(12, 1, 4) 200.59357956704807\n",
    "(12, 1, 5) 248.5375184724206\n",
    "(12, 1, 11) 168.03396883989643\n",
    "(12, 2, 0) 1164.6807773586977\n",
    "(12, 2, 1) 208.25700886534622\n",
    "(12, 2, 2) 517.8379470171611\n",
    "(12, 2, 4) 199.81814408645528\n",
    "(13, 0, 0) 332.1990682572267\n",
    "(13, 0, 1) 323.911065571097\n",
    "(13, 0, 2) 313.8387373331853\n",
    "(13, 0, 3) 263.6059163142568\n",
    "(13, 0, 4) 29173.059480409836\n",
    "(13, 0, 5) 1168.9547428714577\n",
    "(13, 0, 6) 5448.088694993734\n",
    "(13, 0, 11) 213.5488070042884\n",
    "(13, 1, 0) 232.4266610907993\n",
    "(13, 1, 1) 225.38431379165613\n",
    "(13, 1, 2) 343.17362716618175\n",
    "(13, 1, 3) 215.4521172437424\n",
    "(13, 1, 4) 188.17690201264108\n",
    "(13, 1, 5) 190.31812554508363\n",
    "(13, 1, 6) 340.4263407773966\n",
    "(13, 1, 9) 187.73530590596587\n",
    "(13, 1, 10) 184.43417203574623\n",
    "(13, 1, 11) 180.26901326229526\n",
    "(13, 2, 0) 516.0772457223093\n",
    "(13, 2, 1) 372.95965326161996\n",
    "(13, 2, 2) 373.1828696616411\n",
    "(13, 2, 3) 379.4992549339533\n",
    "(13, 2, 4) 193.52238965208355\n",
    "(13, 2, 5) 382.924671840944\n",
    "(13, 2, 6) 231.38853876079682\n",
    "(14, 0, 0) 314.8770387878574\n",
    "(14, 0, 1) 310.100562558433\n",
    "(14, 0, 2) 294.7138206610923\n",
    "(14, 0, 3) 317.01601992019044\n",
    "(14, 0, 4) 237.7762878074715\n",
    "(14, 0, 5) 245.0921941237266\n",
    "(14, 0, 6) 3958.1918752647885\n",
    "(14, 0, 9) 231.77433630922636\n",
    "(14, 0, 10) 223.7772980240683\n",
    "(14, 0, 11) 226.08234895525902\n",
    "(14, 1, 0) 211.05267917955496\n",
    "(14, 1, 1) 210.73695233162138\n",
    "(14, 1, 2) 210.0538487273938\n",
    "(14, 1, 3) 203.73299724432167\n",
    "(14, 1, 4) 334.3471197012591\n",
    "(14, 1, 5) 211.93082554931348\n",
    "(14, 1, 6) 1818.27940243927\n",
    "(14, 1, 11) 181.17928013973182\n",
    "(14, 2, 0) 413.4768814353664\n",
    "(14, 2, 1) 373.8412415100925\n",
    "(14, 2, 2) 191.8699433883492\n",
    "(14, 2, 3) 554.676980085105\n",
    "(14, 2, 4) 432.367723861966\n",
    "(14, 2, 5) 179.5979219227088\n",
    "(14, 2, 6) 240.49071285948767\n",
    "(15, 0, 0) 337.56166638438947\n",
    "(15, 0, 1) 348.12146617667736\n",
    "(15, 0, 2) 294.3804132689254\n",
    "(15, 0, 3) 342.16320761760306\n",
    "(15, 0, 4) 459.98727042844433\n",
    "(15, 0, 5) 252.03810948561272\n",
    "(15, 0, 6) 15043.377012326286\n",
    "(15, 0, 11) 224.9173272658532\n",
    "(15, 1, 0) 210.71289741792356\n",
    "(15, 1, 1) 210.73502737322752\n",
    "(15, 1, 3) 2784.2777145146033\n",
    "(15, 1, 4) 200.23200912117585\n",
    "(15, 1, 5) 209.33905615190005\n",
    "(15, 1, 6) 597.2709121577021\n",
    "(15, 2, 0) 358.93949881102367\n",
    "(15, 2, 1) 351.3696706141788\n",
    "(15, 2, 2) 416.5722280635978\n",
    "(15, 2, 3) 199.7278658876401\n",
    "(15, 2, 4) 250.59314982995667\n",
    "(15, 2, 5) 10523.296599131962\n",
    "(15, 2, 6) 255.0335898931788"
   ]
  }
 ],
 "metadata": {
  "kernelspec": {
   "display_name": "Python 3",
   "language": "python",
   "name": "python3"
  },
  "language_info": {
   "codemirror_mode": {
    "name": "ipython",
    "version": 3
   },
   "file_extension": ".py",
   "mimetype": "text/x-python",
   "name": "python",
   "nbconvert_exporter": "python",
   "pygments_lexer": "ipython3",
   "version": "3.7.2"
  }
 },
 "nbformat": 4,
 "nbformat_minor": 2
}
