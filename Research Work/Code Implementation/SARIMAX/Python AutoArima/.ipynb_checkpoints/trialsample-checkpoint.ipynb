{
 "cells": [
  {
   "cell_type": "markdown",
   "metadata": {},
   "source": [
    "### Auto Regressive Integrated Moving Average (ARIMA)"
   ]
  },
  {
   "cell_type": "code",
   "execution_count": 1,
   "metadata": {},
   "outputs": [],
   "source": [
    "from statsmodels.tsa.arima_model import ARIMA\n",
    "from statsmodels.tsa.statespace.sarimax import SARIMAX\n",
    "import pmdarima as pm\n",
    "import pandas as pd\n",
    "import warnings\n",
    "warnings.filterwarnings('ignore')"
   ]
  },
  {
   "cell_type": "code",
   "execution_count": 2,
   "metadata": {},
   "outputs": [
    {
     "data": {
      "text/plain": [
       "0        0.201351\n",
       "1        0.170571\n",
       "2        0.145495\n",
       "3        0.122823\n",
       "4        0.112613\n",
       "           ...   \n",
       "78883    0.319820\n",
       "78884    0.288138\n",
       "78885    0.257207\n",
       "78886    0.220120\n",
       "78887    0.183333\n",
       "Name: DemandMW, Length: 78888, dtype: float64"
      ]
     },
     "execution_count": 2,
     "metadata": {},
     "output_type": "execute_result"
    }
   ],
   "source": [
    "data = pd.read_csv('Toronto.csv')\n",
    "demand=data.DemandMW\n",
    "demand"
   ]
  },
  {
   "cell_type": "code",
   "execution_count": null,
   "metadata": {},
   "outputs": [
    {
     "name": "stdout",
     "output_type": "stream",
     "text": [
      "Performing stepwise search to minimize aic\n"
     ]
    }
   ],
   "source": [
    "model = pm.auto_arima(demand, start_p=5, start_q=3,\n",
    "                      max_p=25, max_q=25, # maximum p and q\n",
    "                      d=2,\n",
    "                      n_fits = 999999999999999999999999999999,\n",
    "                      n_iter = 999999999999999999999999999999,\n",
    "                      trace=True,\n",
    "                      error_action='ignore',  \n",
    "                      suppress_warnings=True) \n",
    "model.summary()\n"
   ]
  },
  {
   "cell_type": "raw",
   "metadata": {},
   "source": [
    "\"\"\"Performing stepwise search to minimize aic\n",
    " ARIMA(1,2,1)(0,0,0)[0] intercept   : AIC=-388970.227, Time=45.17 sec\n",
    " ARIMA(0,2,0)(0,0,0)[0] intercept   : AIC=-378196.829, Time=7.98 sec\n",
    " ARIMA(1,2,0)(0,0,0)[0] intercept   : AIC=-386142.822, Time=10.34 sec\n",
    " ARIMA(0,2,1)(0,0,0)[0] intercept   : AIC=-388919.205, Time=19.28 sec\n",
    " ARIMA(0,2,0)(0,0,0)[0]             : AIC=-378198.841, Time=4.75 sec\n",
    " ARIMA(2,2,1)(0,0,0)[0] intercept   : AIC=-389727.799, Time=15.38 sec\n",
    " ARIMA(2,2,0)(0,0,0)[0] intercept   : AIC=-389683.225, Time=10.07 sec\n",
    " ARIMA(3,2,1)(0,0,0)[0] intercept   : AIC=-389712.124, Time=25.18 sec\n",
    " ARIMA(2,2,2)(0,0,0)[0] intercept   : AIC=-389846.048, Time=57.53 sec\n",
    " ARIMA(1,2,2)(0,0,0)[0] intercept   : AIC=-389244.174, Time=6.56 sec\n",
    " ARIMA(3,2,2)(0,0,0)[0] intercept   : AIC=-389770.349, Time=92.08 sec\n",
    " ARIMA(2,2,3)(0,0,0)[0] intercept   : AIC=-394179.691, Time=102.06 sec\n",
    " ARIMA(1,2,3)(0,0,0)[0] intercept   : AIC=-391873.711, Time=91.73 sec\n",
    " ARIMA(3,2,3)(0,0,0)[0] intercept   : AIC=-390662.943, Time=113.90 sec\n",
    " ARIMA(2,2,4)(0,0,0)[0] intercept   : AIC=-390185.947, Time=118.09 sec\n",
    " ARIMA(1,2,4)(0,0,0)[0] intercept   : AIC=-394704.371, Time=97.40 sec\n",
    " ARIMA(0,2,4)(0,0,0)[0] intercept   : AIC=-390047.592, Time=76.37 sec\n",
    " ARIMA(1,2,5)(0,0,0)[0] intercept   : AIC=-399076.597, Time=124.73 sec\n",
    " ARIMA(0,2,5)(0,0,0)[0] intercept   : AIC=-397316.479, Time=117.69 sec\n",
    " ARIMA(2,2,5)(0,0,0)[0] intercept   : AIC=-397989.426, Time=198.78 sec\n",
    " ARIMA(1,2,6)(0,0,0)[0] intercept   : AIC=-399136.910, Time=158.23 sec\n",
    " ARIMA(0,2,6)(0,0,0)[0] intercept   : AIC=inf, Time=169.19 sec\n",
    " ARIMA(2,2,6)(0,0,0)[0] intercept   : AIC=-400665.034, Time=188.42 sec\n",
    " ARIMA(3,2,6)(0,0,0)[0] intercept   : AIC=-398871.588, Time=186.87 sec\n",
    " ARIMA(2,2,7)(0,0,0)[0] intercept   : AIC=-402511.678, Time=199.14 sec\n",
    " ARIMA(1,2,7)(0,0,0)[0] intercept   : AIC=-401628.855, Time=202.48 sec\n",
    " ARIMA(3,2,7)(0,0,0)[0] intercept   : AIC=-402181.882, Time=226.65 sec\n",
    " ARIMA(2,2,8)(0,0,0)[0] intercept   : AIC=-404188.755, Time=256.03 sec\n",
    " ARIMA(1,2,8)(0,0,0)[0] intercept   : AIC=-403115.884, Time=240.21 sec\n",
    " ARIMA(3,2,8)(0,0,0)[0] intercept   : AIC=-395138.166, Time=279.36 sec\n",
    " ARIMA(2,2,9)(0,0,0)[0] intercept   : AIC=-404267.322, Time=246.24 sec\n",
    " ARIMA(1,2,9)(0,0,0)[0] intercept   : AIC=-402546.078, Time=238.23 sec\n",
    " ARIMA(3,2,9)(0,0,0)[0] intercept   : AIC=-404262.732, Time=254.36 sec\n",
    " \"\"\"\n",
    " \n",
    " ARIMA(1,2,1)(0,0,0)[0]             : AIC=-388972.229, Time=10.05 sec\n",
    " ARIMA(0,2,0)(0,0,0)[0]             : AIC=-378198.841, Time=4.04 sec\n",
    " ARIMA(1,2,0)(0,0,0)[0]             : AIC=-386144.823, Time=3.27 sec\n",
    " ARIMA(0,2,1)(0,0,0)[0]             : AIC=-388921.205, Time=3.40 sec\n",
    " ARIMA(2,2,1)(0,0,0)[0]             : AIC=-389729.799, Time=5.64 sec\n",
    " ARIMA(2,2,0)(0,0,0)[0]             : AIC=-389685.225, Time=4.47 sec\n",
    " ARIMA(3,2,1)(0,0,0)[0]             : AIC=-389737.366, Time=29.79 sec\n",
    " ARIMA(3,2,0)(0,0,0)[0]             : AIC=-389739.158, Time=5.76 sec\n",
    " ARIMA(4,2,0)(0,0,0)[0]             : AIC=-389739.053, Time=8.58 sec\n",
    " ARIMA(4,2,1)(0,0,0)[0]             : AIC=-389770.828, Time=62.88 sec\n",
    " ARIMA(5,2,1)(0,0,0)[0]             : AIC=-393503.608, Time=48.78 sec\n",
    " ARIMA(5,2,0)(0,0,0)[0]             : AIC=-390459.983, Time=5.33 sec\n",
    " ARIMA(6,2,1)(0,0,0)[0]             : AIC=-400598.306, Time=55.58 sec\n",
    " ARIMA(6,2,0)(0,0,0)[0]             : AIC=-391277.319, Time=5.51 sec\n",
    " ARIMA(7,2,1)(0,0,0)[0]             : AIC=-395499.358, Time=67.89 sec\n",
    " ARIMA(6,2,2)(0,0,0)[0]             : AIC=-402965.489, Time=59.59 sec\n",
    " ARIMA(5,2,2)(0,0,0)[0]             : AIC=inf, Time=54.65 sec\n",
    " ARIMA(7,2,2)(0,0,0)[0]             : AIC=-404965.907, Time=122.27 sec\n",
    " ARIMA(8,2,2)(0,0,0)[0]             : AIC=-398246.083, Time=85.74 sec\n",
    " ARIMA(7,2,3)(0,0,0)[0]             : AIC=-398804.758, Time=77.16 sec\n",
    " ARIMA(6,2,3)(0,0,0)[0]             : AIC=-401188.523, Time=68.10 sec\n",
    " ARIMA(8,2,1)(0,0,0)[0]             : AIC=-398526.324, Time=74.20 sec\n",
    " ARIMA(8,2,3)(0,0,0)[0]             : AIC=-398477.522, Time=84.50 sec\n",
    " ARIMA(7,2,2)(0,0,0)[0] intercept   : AIC=-401753.444, Time=173.51 sec"
   ]
  },
  {
   "cell_type": "code",
   "execution_count": null,
   "metadata": {},
   "outputs": [],
   "source": [
    "# model =pm.auto_arima(data.DemandMW,  test='adf', start_p=1, d=None, start_q=1, max_p=9, max_d=3, max_q=9, \n",
    "#                      start_P=1, D=None, start_Q=1, max_P=9, max_D=4, max_Q=9, max_order=20, m=24, seasonal=True, \n",
    "#                      stationary=False, stepwise=True, transparams=True, trace = True,\n",
    "#                      suppress_warnings=True, error_action='ignore', return_valid_fits=True)\n",
    "\n",
    "# model =pm.auto_arima(data.DemandMW, start_p=1, d=None, start_q=1, max_p=9, max_d=3, max_q=9, \n",
    "#                      max_order=20, stationary=False, stepwise=True, transparams=True, trace = True,\n",
    "#                      suppress_warnings=True, error_action='ignore', return_valid_fits=True)\n",
    "\n",
    "#model =pm.auto_arima(data.DemandMW, d=None, max_order=60, stationary=False, stepwise=True, trace = True,\n",
    "#                     suppress_warnings=True, error_action='ignore', return_valid_fits=True)\n",
    "\n",
    "# y_hat_avg['ARIMA'] = model.predict(n_periods=len(test))\n",
    "# model.summary()"
   ]
  },
  {
   "cell_type": "code",
   "execution_count": null,
   "metadata": {},
   "outputs": [],
   "source": [
    "# y_hat_avg = test.copy()\n",
    "# model =  SARIMAX(train.Demand, order=(1,1,2),seasonal_order=(1,0,2,7))\n",
    "# model_fit = model.fit()\n",
    "# y_hat_avg['ARIMA'] = model_fit.predict(start=\"2019-10-06\", end=\"2019-11-05\", dynamic=True)\n",
    "\n",
    "# # model_arima = ARIMA(train,order=(6,1,7))\n",
    "# # model_arima_fit = model_arima.fit(disp = -1)\n",
    "# # y_hat_avg['ARIMA'] = model_arima_fit.forecast(steps=len(test))[0]\n",
    "\n",
    "# plt.plot( train[view:]['Demand'], label='Train')\n",
    "# plt.plot(test['Demand'], label='Test')\n",
    "# plt.plot(y_hat_avg['ARIMA'], label='ARIMA')\n",
    "# plt.legend(loc='best')\n",
    "# plt.show()"
   ]
  },
  {
   "cell_type": "code",
   "execution_count": null,
   "metadata": {},
   "outputs": [],
   "source": [
    "# #Checking Accuracy Metrics\n",
    "# actual = test.Demand\n",
    "# forecast = y_hat_avg.ARIMA\n",
    "# print(accuracy_metrics(actual, forecast))"
   ]
  }
 ],
 "metadata": {
  "kernelspec": {
   "display_name": "Python 3 (ipykernel)",
   "language": "python",
   "name": "python3"
  },
  "language_info": {
   "codemirror_mode": {
    "name": "ipython",
    "version": 3
   },
   "file_extension": ".py",
   "mimetype": "text/x-python",
   "name": "python",
   "nbconvert_exporter": "python",
   "pygments_lexer": "ipython3",
   "version": "3.8.10"
  }
 },
 "nbformat": 4,
 "nbformat_minor": 4
}
